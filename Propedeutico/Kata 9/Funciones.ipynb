{
 "cells": [
  {
   "cell_type": "markdown",
   "metadata": {},
   "source": [
    "Ejercicio: Uso de funciones en Python"
   ]
  },
  {
   "cell_type": "code",
   "execution_count": 1,
   "metadata": {},
   "outputs": [],
   "source": [
    "# Función para leer 3 tanques de combustible y muestre el promedio\n",
    "def promedio_tanques(tanque1,tanque2,tanque3):\n",
    "    return f\"\"\"Reporte:\n",
    "    Promedio: {(tanque1+tanque2+tanque3)/3}%\n",
    "    tanque 1: {tanque1}%\n",
    "    tanque 2: {tanque2}%\n",
    "    tanque 3: {tanque3}%\n",
    "    \"\"\"\n"
   ]
  },
  {
   "cell_type": "code",
   "execution_count": 2,
   "metadata": {},
   "outputs": [
    {
     "name": "stdout",
     "output_type": "stream",
     "text": [
      "Reporte:\n",
      "    Promedio: 61.666666666666664%\n",
      "    tanque 1: 60%\n",
      "    tanque 2: 35%\n",
      "    tanque 3: 90%\n",
      "    \n"
     ]
    }
   ],
   "source": [
    "# Llamamos a la función que genera el reporte \n",
    "print(promedio_tanques(60,35,90))"
   ]
  },
  {
   "cell_type": "code",
   "execution_count": 3,
   "metadata": {},
   "outputs": [],
   "source": [
    "# Función promedio \n",
    "def promedio(tank1,tank2,tank3):\n",
    "    return (tank1+tank2+tank3)/3\n"
   ]
  },
  {
   "cell_type": "code",
   "execution_count": 4,
   "metadata": {},
   "outputs": [],
   "source": [
    "# Actualiza la función\n",
    "def promedio_tanques(tanque1,tanque2,tanque3):\n",
    "    return f\"\"\"Reporte:\n",
    "    Promedio: {promedio(tanque1,tanque2,tanque3)}%\n",
    "    tanque 1: {tanque1}%\n",
    "    tanque 2: {tanque2}%\n",
    "    tanque 3: {tanque3}%\n",
    "    \"\"\""
   ]
  },
  {
   "cell_type": "code",
   "execution_count": 5,
   "metadata": {},
   "outputs": [
    {
     "name": "stdout",
     "output_type": "stream",
     "text": [
      "Reporte:\n",
      "    Promedio: 61.666666666666664%\n",
      "    tanque 1: 60%\n",
      "    tanque 2: 35%\n",
      "    tanque 3: 90%\n",
      "    \n"
     ]
    }
   ],
   "source": [
    "print(promedio_tanques(60,35,90))"
   ]
  },
  {
   "cell_type": "markdown",
   "metadata": {},
   "source": [
    "Ejercicio 2: Trabajo con argumentos de palabra clave"
   ]
  },
  {
   "cell_type": "code",
   "execution_count": 10,
   "metadata": {},
   "outputs": [
    {
     "name": "stdout",
     "output_type": "stream",
     "text": [
      "\n",
      "    Reporte de mision\n",
      "    Mision rumbo a Luna\n",
      "    Tiempo total de la mision: 110 minutos\n",
      "    Total de combustible: 800000 litros\n",
      "    \n"
     ]
    }
   ],
   "source": [
    "# Función con un informe preciso de la misión. Considera hora de prelanzamiento, tiempo de vuelo, destino, tanque externo y tanque interno\n",
    "def informe(pre_lanzamiento, tiempo_vuelo, destino, tanque_externo, tanque_interno):\n",
    "    return f\"\"\"\n",
    "    Reporte de mision\n",
    "    Mision rumbo a {destino}\n",
    "    Tiempo total de la mision: {pre_lanzamiento+tiempo_vuelo} minutos\n",
    "    Total de combustible: {tanque_externo+tanque_interno} litros\n",
    "    \"\"\"\n",
    "print(informe(7, 103, \"Luna\", 300000, 500000))\n"
   ]
  },
  {
   "cell_type": "code",
   "execution_count": 11,
   "metadata": {},
   "outputs": [
    {
     "name": "stdout",
     "output_type": "stream",
     "text": [
      "\n",
      "    Reporte de mision\n",
      "    Mision rumbo a Moon\n",
      "    Tiempo total de la mision: 76 minutes\n",
      "    Total de combustible: 800000\n",
      "    \n"
     ]
    }
   ],
   "source": [
    "# Escribe tu nueva función de reporte considerando lo anterior\n",
    "\n",
    "def informe(destino, *minutes, **fuel_reservoirs):\n",
    "    return f\"\"\"\n",
    "    Reporte de mision\n",
    "    Mision rumbo a {destino}\n",
    "    Tiempo total de la mision: {sum(minutes)} minutos\n",
    "    Total de combustible: {sum(fuel_reservoirs.values())}\n",
    "    \"\"\"\n",
    "print(informe(\"Moon\", 10, 15, 51, principal=500000, externo=300000))\n"
   ]
  },
  {
   "cell_type": "code",
   "execution_count": 20,
   "metadata": {},
   "outputs": [
    {
     "name": "stdout",
     "output_type": "stream",
     "text": [
      "\n",
      "    Mision rumbo a Moon\n",
      "    Tiempo total de la mision: 76 minutos\n",
      "    Total de combustible: 800000\n",
      "    tanque principal  --> 500000 litros\n",
      "tanque externo  --> 300000 litros\n",
      "\n"
     ]
    }
   ],
   "source": [
    "# Escribe tu nueva función\n",
    "\n",
    "def informe(destino, *minutes, **fuel_reservoirs):\n",
    "    informe_principal = f\"\"\"\n",
    "    Mision rumbo a {destino}\n",
    "    Tiempo total de la mision: {sum(minutes)} minutos\n",
    "    Total de combustible: {sum(fuel_reservoirs.values())}\n",
    "    \"\"\"\n",
    "    for tank_name, litros in fuel_reservoirs.items():\n",
    "        informe_principal += f\"tanque {tank_name}  --> {litros} litros\\n\"\n",
    "    return informe_principal\n",
    "\n",
    "print(informe(\"Moon\", 10, 15, 51, principal=500000, externo=300000))"
   ]
  }
 ],
 "metadata": {
  "interpreter": {
   "hash": "0994da83cc6f65cc6015ade76f7ebeb81dce91dfdd93b980e3ab538ebaf1217a"
  },
  "kernelspec": {
   "display_name": "Python 3.10.2 64-bit",
   "language": "python",
   "name": "python3"
  },
  "language_info": {
   "codemirror_mode": {
    "name": "ipython",
    "version": 3
   },
   "file_extension": ".py",
   "mimetype": "text/x-python",
   "name": "python",
   "nbconvert_exporter": "python",
   "pygments_lexer": "ipython3",
   "version": "3.10.2"
  },
  "orig_nbformat": 4
 },
 "nbformat": 4,
 "nbformat_minor": 2
}
