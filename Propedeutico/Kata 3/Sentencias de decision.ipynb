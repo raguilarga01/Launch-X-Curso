{
 "cells": [
  {
   "cell_type": "markdown",
   "metadata": {},
   "source": [
    "Ejercicio - Escribir declaraciones if, else, y elif"
   ]
  },
  {
   "cell_type": "code",
   "execution_count": 1,
   "metadata": {},
   "outputs": [
    {
     "name": "stdout",
     "output_type": "stream",
     "text": [
      "Nos parecemos a los dinosaurios porque vamos a morir de la misma forma\n"
     ]
    }
   ],
   "source": [
    "# Añadir el código necesario para crear una variable que guarde la velocidad del asteroide.\n",
    "velAst=49\n",
    "# Escribe una expresión de prueba para calcular si necesita una advertencia.\n",
    "if velAst >= 25:\n",
    "    # Agregue las instrucciones que se ejecutarán si la expresión de prueba es true o false\n",
    "    print('Nos parecemos a los dinosaurios porque vamos a morir de la misma forma')\n",
    "else:\n",
    "    print('No nos vamos a morir aun')\n",
    "\n"
   ]
  },
  {
   "cell_type": "code",
   "execution_count": 5,
   "metadata": {},
   "outputs": [
    {
     "name": "stdout",
     "output_type": "stream",
     "text": [
      "Alcen los ojos al cielo para ver si ven la luz del asteroide\n"
     ]
    }
   ],
   "source": [
    "velAst=29\n",
    "if velAst < 20:\n",
    "    print('Alcen los ojos al cielo para encontrar un ateroride')\n",
    "elif velAst >= 20:\n",
    "    print('Alcen los ojos al cielo para ver si ven la luz del asteroide')\n",
    "else:\n",
    "    print('Alcen los ojos para ver el hermoso dia que hay')"
   ]
  },
  {
   "cell_type": "markdown",
   "metadata": {},
   "source": [
    "Ejercicio: Uso de operadores and y or"
   ]
  },
  {
   "cell_type": "code",
   "execution_count": 7,
   "metadata": {},
   "outputs": [
    {
     "name": "stdout",
     "output_type": "stream",
     "text": [
      "Nos va doler el golpe que nos de el asteroide\n"
     ]
    }
   ],
   "source": [
    "# Agrega el código para crear nuevas variables para la velocidad y el tamaño del asteroide\n",
    "velAst=29\n",
    "tamAst=25\n",
    "# Para probar el código, prueba con varias velocidades y tamaños\n",
    "# Escribe varias expresiones de prueba o combinaciones de expresiones de prueba para determinar qué mensaje se debe enviar a Tierra.\n",
    "if tamAst > 25 and velAst > 25:\n",
    "    print('De seguro que nos mata como a los dinosaruios')\n",
    "elif tamAst >= 25:\n",
    "    print('Nos va doler el golpe que nos de el asteroide')\n",
    "elif velAst >= 20:\n",
    "    print('No son fuegos artificiales es un asteroide que se acerca')\n",
    "else:\n",
    "    print('Que pasen buen dia, no moriremos aun')\n"
   ]
  }
 ],
 "metadata": {
  "interpreter": {
   "hash": "0994da83cc6f65cc6015ade76f7ebeb81dce91dfdd93b980e3ab538ebaf1217a"
  },
  "kernelspec": {
   "display_name": "Python 3.10.2 64-bit",
   "language": "python",
   "name": "python3"
  },
  "language_info": {
   "codemirror_mode": {
    "name": "ipython",
    "version": 3
   },
   "file_extension": ".py",
   "mimetype": "text/x-python",
   "name": "python",
   "nbconvert_exporter": "python",
   "pygments_lexer": "ipython3",
   "version": "3.10.2"
  },
  "orig_nbformat": 4
 },
 "nbformat": 4,
 "nbformat_minor": 2
}
